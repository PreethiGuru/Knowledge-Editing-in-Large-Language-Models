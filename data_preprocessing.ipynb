{
 "cells": [
  {
   "cell_type": "code",
   "execution_count": 1,
   "metadata": {},
   "outputs": [],
   "source": [
    "import pandas as pd\n",
    "import csv\n",
    "import json"
   ]
  },
  {
   "cell_type": "code",
   "execution_count": 2,
   "metadata": {},
   "outputs": [],
   "source": [
    "def print_labels(file_json):\n",
    "    for f in file_json:\n",
    "        for sf in f:\n",
    "            print(sf)\n",
    "            # print(f[sf])\n",
    "        break"
   ]
  },
  {
   "cell_type": "code",
   "execution_count": 53,
   "metadata": {},
   "outputs": [],
   "source": [
    "def get_data(path_to_file,special_care=[],labels = ['subject', 'prompt', 'target_new', 'ground_truth']):\n",
    "    file = json.load(open(path_to_file))\n",
    "    data = {}\n",
    "    for l in labels:\n",
    "        data[l] = []\n",
    "    for f in file:\n",
    "        for sf in f:\n",
    "            if sf in labels:\n",
    "                if sf == \"locality\":\n",
    "                    data[sf].append(f[sf][\"Relation_Specificity\"][0][\"prompt\"])  \n",
    "                    continue  \n",
    "                if sf in special_care:\n",
    "                    data[sf].append(f[sf][0])\n",
    "                else:\n",
    "                    data[sf].append(f[sf])\n",
    "    #create data to a dataframe\n",
    "    data = pd.DataFrame(data)\n",
    "    return data"
   ]
  },
  {
   "cell_type": "code",
   "execution_count": 41,
   "metadata": {},
   "outputs": [
    {
     "name": "stdout",
     "output_type": "stream",
     "text": [
      "subject\n",
      "target_new\n",
      "prompt\n",
      "ground_truth\n",
      "rephrase_prompt\n",
      "cond\n",
      "locality\n",
      "portability\n"
     ]
    }
   ],
   "source": [
    "file_2_path = \"benchmark_ZsRE_ZsRE-test-all.json\"\n",
    "file_2 = json.load(open(file_2_path))\n",
    "print_labels(file_2)"
   ]
  },
  {
   "cell_type": "code",
   "execution_count": 54,
   "metadata": {},
   "outputs": [],
   "source": [
    "df_2 = get_data(file_2_path,special_care=['ground_truth'],labels = ['subject', 'prompt', 'target_new', 'ground_truth', 'rephrase_prompt','locality'])\n",
    "df_2\n",
    "df_2.head(10)\n",
    "df_2.to_csv(\"benchmark_ZsRE_ZsRE-test-all.csv\", index=False)"
   ]
  }
 ],
 "metadata": {
  "kernelspec": {
   "display_name": "Python 3",
   "language": "python",
   "name": "python3"
  },
  "language_info": {
   "codemirror_mode": {
    "name": "ipython",
    "version": 3
   },
   "file_extension": ".py",
   "mimetype": "text/x-python",
   "name": "python",
   "nbconvert_exporter": "python",
   "pygments_lexer": "ipython3",
   "version": "3.12.1"
  }
 },
 "nbformat": 4,
 "nbformat_minor": 2
}
